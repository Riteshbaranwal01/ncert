{
  "nbformat": 4,
  "nbformat_minor": 0,
  "metadata": {
    "colab": {
      "name": "Binomial.ipynb",
      "provenance": [],
      "collapsed_sections": [],
      "authorship_tag": "ABX9TyMgAlm/gn8O869D943sdAC2",
      "include_colab_link": true
    },
    "kernelspec": {
      "name": "python3",
      "display_name": "Python 3"
    }
  },
  "cells": [
    {
      "cell_type": "markdown",
      "metadata": {
        "id": "view-in-github",
        "colab_type": "text"
      },
      "source": [
        "<a href=\"https://colab.research.google.com/github/Riteshbaranwal01/ncert/blob/main/Binomial.ipynb\" target=\"_parent\"><img src=\"https://colab.research.google.com/assets/colab-badge.svg\" alt=\"Open In Colab\"/></a>"
      ]
    },
    {
      "cell_type": "code",
      "metadata": {
        "colab": {
          "base_uri": "https://localhost:8080/"
        },
        "id": "tsW5O-aXoIGc",
        "outputId": "18a92deb-4859-4bed-88dc-d02048fb0f05"
      },
      "source": [
        " \n",
        "#suppose that 90% of people are right handed\n",
        "#what is the probability that atmost 6\n",
        "#of a random sample of 10 people\n",
        "#are right handed\n",
        "#importing numpy ,scipy\n",
        "from scipy.stats import binom\n",
        "import numpy as np\n",
        "#setting the value of \n",
        "#n and p\n",
        "#p is probability of right handed\n",
        "print(binom.pmf(k=6,n=10,p=0.9))\n",
        "#pmf equation is p(X=x)\n",
        "#That just means \"the probability that \n",
        "#x takes on some value x"
      ],
      "execution_count": 2,
      "outputs": [
        {
          "output_type": "stream",
          "text": [
            "0.011160260999999996\n"
          ],
          "name": "stdout"
        }
      ]
    }
  ]
}